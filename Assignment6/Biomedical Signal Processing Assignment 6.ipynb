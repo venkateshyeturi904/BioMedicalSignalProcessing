{
 "cells": [
  {
   "cell_type": "markdown",
   "id": "515dbf11",
   "metadata": {},
   "source": [
    "\n",
    "# Viterbi Algorithm"
   ]
  },
  {
   "cell_type": "code",
   "execution_count": 6,
   "id": "5b7c4788",
   "metadata": {},
   "outputs": [],
   "source": [
    "import numpy as np \n",
    "import pandas as pd\n",
    "import math\n",
    "import random"
   ]
  },
  {
   "cell_type": "code",
   "execution_count": 7,
   "id": "cc8f6383",
   "metadata": {},
   "outputs": [],
   "source": [
    "# given data \n",
    "# State Transition Matrix\n",
    "A = [[0.75, 0.25],[0.2, 0.8]]\n",
    "\n",
    "# Observation Matrix\n",
    "B = [[1/6,1/6,1/6,1/6,1/6,1/6],[5/12,2/12,1/12,1/12,2/12,1/12]]\n",
    "\n",
    "# Initial State Probability Vector\n",
    "Pi = [0.45, 0.55]"
   ]
  },
  {
   "cell_type": "code",
   "execution_count": 8,
   "id": "73a08fba",
   "metadata": {},
   "outputs": [
    {
     "name": "stdout",
     "output_type": "stream",
     "text": [
      "Random Sequence of Observations: \n",
      "[1, 5, 2, 0, 5, 1, 5, 1, 5, 1, 4, 5, 2, 2, 2, 0, 0, 1, 1, 0, 2, 4, 1, 1, 2, 2, 0, 3, 5, 5, 3, 1, 0, 2, 0, 5, 3, 1, 5, 0, 2, 5, 1, 5, 2, 4, 0, 3, 5, 4, 5, 2, 4, 4, 4, 4, 2, 4, 2, 1, 0, 5, 2, 4, 3, 0, 1, 4, 2, 3, 2, 1, 4, 3, 3, 3, 4, 3, 2, 5, 0, 0, 1, 5, 0, 1, 4, 3, 2, 3, 3, 1, 5, 1, 3, 1, 0, 4, 5, 0]\n"
     ]
    }
   ],
   "source": [
    "#Generating a random sequence of states of length 100\n",
    "L = 100    # Length\n",
    "N = 2      # States\n",
    "M = 6      # Observations\n",
    "random_seq = list(np.random.randint(low = 0, high=M, size=L)) # here high is exclusive\n",
    "\n",
    "print(f'Random Sequence of Observations: \\n{random_seq}')"
   ]
  },
  {
   "cell_type": "code",
   "execution_count": 4,
   "id": "943f3581",
   "metadata": {},
   "outputs": [
    {
     "data": {
      "text/html": [
       "<div>\n",
       "<style scoped>\n",
       "    .dataframe tbody tr th:only-of-type {\n",
       "        vertical-align: middle;\n",
       "    }\n",
       "\n",
       "    .dataframe tbody tr th {\n",
       "        vertical-align: top;\n",
       "    }\n",
       "\n",
       "    .dataframe thead th {\n",
       "        text-align: right;\n",
       "    }\n",
       "</style>\n",
       "<table border=\"1\" class=\"dataframe\">\n",
       "  <thead>\n",
       "    <tr style=\"text-align: right;\">\n",
       "      <th></th>\n",
       "      <th>0</th>\n",
       "      <th>1</th>\n",
       "      <th>2</th>\n",
       "      <th>3</th>\n",
       "      <th>4</th>\n",
       "      <th>5</th>\n",
       "      <th>6</th>\n",
       "      <th>7</th>\n",
       "      <th>8</th>\n",
       "      <th>9</th>\n",
       "      <th>...</th>\n",
       "      <th>90</th>\n",
       "      <th>91</th>\n",
       "      <th>92</th>\n",
       "      <th>93</th>\n",
       "      <th>94</th>\n",
       "      <th>95</th>\n",
       "      <th>96</th>\n",
       "      <th>97</th>\n",
       "      <th>98</th>\n",
       "      <th>99</th>\n",
       "    </tr>\n",
       "  </thead>\n",
       "  <tbody>\n",
       "    <tr>\n",
       "      <th>0</th>\n",
       "      <td>0.075000</td>\n",
       "      <td>0.009375</td>\n",
       "      <td>0.002546</td>\n",
       "      <td>0.000849</td>\n",
       "      <td>0.000113</td>\n",
       "      <td>0.000015</td>\n",
       "      <td>0.000002</td>\n",
       "      <td>6.706295e-07</td>\n",
       "      <td>8.941726e-08</td>\n",
       "      <td>1.117716e-08</td>\n",
       "      <td>...</td>\n",
       "      <td>8.032270e-79</td>\n",
       "      <td>1.004034e-79</td>\n",
       "      <td>1.255042e-80</td>\n",
       "      <td>1.568803e-81</td>\n",
       "      <td>1.961003e-82</td>\n",
       "      <td>2.451254e-83</td>\n",
       "      <td>3.064068e-84</td>\n",
       "      <td>3.830085e-85</td>\n",
       "      <td>4.787606e-86</td>\n",
       "      <td>5.984508e-87</td>\n",
       "    </tr>\n",
       "    <tr>\n",
       "      <th>1</th>\n",
       "      <td>0.229167</td>\n",
       "      <td>0.076389</td>\n",
       "      <td>0.025463</td>\n",
       "      <td>0.003395</td>\n",
       "      <td>0.000453</td>\n",
       "      <td>0.000060</td>\n",
       "      <td>0.000020</td>\n",
       "      <td>2.682518e-06</td>\n",
       "      <td>1.788345e-07</td>\n",
       "      <td>5.961151e-08</td>\n",
       "      <td>...</td>\n",
       "      <td>1.338712e-79</td>\n",
       "      <td>1.673390e-80</td>\n",
       "      <td>1.045868e-80</td>\n",
       "      <td>1.394491e-81</td>\n",
       "      <td>9.296609e-83</td>\n",
       "      <td>6.197739e-84</td>\n",
       "      <td>2.553390e-84</td>\n",
       "      <td>3.404520e-85</td>\n",
       "      <td>2.269680e-86</td>\n",
       "      <td>3.026240e-87</td>\n",
       "    </tr>\n",
       "  </tbody>\n",
       "</table>\n",
       "<p>2 rows × 100 columns</p>\n",
       "</div>"
      ],
      "text/plain": [
       "         0         1         2         3         4         5         6   \\\n",
       "0  0.075000  0.009375  0.002546  0.000849  0.000113  0.000015  0.000002   \n",
       "1  0.229167  0.076389  0.025463  0.003395  0.000453  0.000060  0.000020   \n",
       "\n",
       "             7             8             9   ...            90            91  \\\n",
       "0  6.706295e-07  8.941726e-08  1.117716e-08  ...  8.032270e-79  1.004034e-79   \n",
       "1  2.682518e-06  1.788345e-07  5.961151e-08  ...  1.338712e-79  1.673390e-80   \n",
       "\n",
       "             92            93            94            95            96  \\\n",
       "0  1.255042e-80  1.568803e-81  1.961003e-82  2.451254e-83  3.064068e-84   \n",
       "1  1.045868e-80  1.394491e-81  9.296609e-83  6.197739e-84  2.553390e-84   \n",
       "\n",
       "             97            98            99  \n",
       "0  3.830085e-85  4.787606e-86  5.984508e-87  \n",
       "1  3.404520e-85  2.269680e-86  3.026240e-87  \n",
       "\n",
       "[2 rows x 100 columns]"
      ]
     },
     "metadata": {},
     "output_type": "display_data"
    }
   ],
   "source": [
    "D = np.zeros((N,L))\n",
    "\n",
    "for i in range(L):\n",
    "    for j in range(N):\n",
    "        k = random_seq[i]\n",
    "        if i == 0:         \n",
    "            D[j][i] = Pi[j] * B[j][k]       # Initialization\n",
    "    \n",
    "        else:\n",
    "            D[j][i] = max(D[0][i-1]* A[0][j],D[1][i-1]* A[1][j]) * B[j][k]\n",
    "    \n",
    "Delta = pd.DataFrame(D)\n",
    "display(Delta)"
   ]
  },
  {
   "cell_type": "code",
   "execution_count": 9,
   "id": "d47630e0",
   "metadata": {},
   "outputs": [
    {
     "name": "stdout",
     "output_type": "stream",
     "text": [
      "The most likely state sequence for the random observation sequence is:\n",
      "\n",
      "[2, 2, 2, 2, 2, 2, 2, 2, 2, 2, 2, 2, 2, 2, 2, 2, 2, 2, 2, 2, 2, 2, 2, 2, 2, 2, 2, 2, 2, 2, 1, 1, 1, 1, 1, 1, 1, 1, 1, 1, 1, 1, 2, 1, 1, 1, 1, 1, 1, 2, 2, 1, 1, 1, 1, 1, 1, 1, 1, 1, 1, 1, 1, 1, 1, 1, 1, 1, 1, 1, 2, 1, 1, 1, 1, 1, 1, 1, 1, 1, 1, 1, 1, 1, 1, 1, 1, 1, 1, 1, 1, 1, 1, 1, 1, 1, 1, 1, 1, 1]\n"
     ]
    }
   ],
   "source": [
    "state_seq = []\n",
    "\n",
    "for i in range(L):\n",
    "    if D[0][i] > D[1][i]:\n",
    "        state_seq.append(1)\n",
    "    else:\n",
    "        state_seq.append(2)\n",
    "\n",
    "print(f'The most likely state sequence for the random observation sequence is:\\n\\n{state_seq}')"
   ]
  },
  {
   "cell_type": "code",
   "execution_count": null,
   "id": "1fd06623",
   "metadata": {},
   "outputs": [],
   "source": []
  },
  {
   "cell_type": "code",
   "execution_count": null,
   "id": "25b1de40",
   "metadata": {},
   "outputs": [],
   "source": []
  }
 ],
 "metadata": {
  "kernelspec": {
   "display_name": "Python 3 (ipykernel)",
   "language": "python",
   "name": "python3"
  },
  "language_info": {
   "codemirror_mode": {
    "name": "ipython",
    "version": 3
   },
   "file_extension": ".py",
   "mimetype": "text/x-python",
   "name": "python",
   "nbconvert_exporter": "python",
   "pygments_lexer": "ipython3",
   "version": "3.9.12"
  }
 },
 "nbformat": 4,
 "nbformat_minor": 5
}
